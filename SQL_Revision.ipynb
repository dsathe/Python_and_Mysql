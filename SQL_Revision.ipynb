{
 "cells": [
  {
   "cell_type": "markdown",
   "id": "f3f1d11b",
   "metadata": {},
   "source": [
    "# Mysql and Python using connector"
   ]
  },
  {
   "cell_type": "code",
   "execution_count": 1,
   "id": "12ae4714",
   "metadata": {},
   "outputs": [],
   "source": [
    "import pandas as pd\n",
    "import numpy as np\n",
    "import mysql.connector\n",
    "from mysql.connector import Error"
   ]
  },
  {
   "cell_type": "code",
   "execution_count": 2,
   "id": "791357bf",
   "metadata": {},
   "outputs": [],
   "source": [
    "#Defining a function to connect to the database\n",
    "def create_server_connection(host_name,user_name,user_password):\n",
    "    connection = None\n",
    "    try:\n",
    "        connection = mysql.connector.connect(\n",
    "            host = host_name,\n",
    "            user = user_name,\n",
    "            passwd = user_password\n",
    "        )\n",
    "        print(\"Mysql connection is  successful\")\n",
    "    except Error as err:\n",
    "        print(f\"Mysql connection '{err}'\")\n",
    "    \n",
    "    return connection"
   ]
  },
  {
   "cell_type": "code",
   "execution_count": 3,
   "id": "8ec8e814",
   "metadata": {},
   "outputs": [],
   "source": [
    "#Database creation function \n",
    "def create_database(connection, query):\n",
    "    cursor = connection.cursor()\n",
    "    try:\n",
    "        cursor.execute(query)\n",
    "        print(\"Database Created successfully\")\n",
    "    except Error as err:\n",
    "        print(f\"Database creation error'{err}'\")"
   ]
  },
  {
   "cell_type": "markdown",
   "id": "88246e94",
   "metadata": {},
   "source": [
    "### Commit operation is required to actualy store the changes in the database. Otherwise changes are still in the main memory"
   ]
  },
  {
   "cell_type": "code",
   "execution_count": 4,
   "id": "44c23d41",
   "metadata": {},
   "outputs": [],
   "source": [
    "def execute_query(connection, query):\n",
    "    cursor = connection.cursor()\n",
    "    try:\n",
    "        cursor.execute(query)\n",
    "        connection.commit()\n",
    "        print(\"Query executed successfully\")\n",
    "    except Error as err:\n",
    "        print(f\"Query execution failed with error'{err}'\")"
   ]
  },
  {
   "cell_type": "code",
   "execution_count": 5,
   "id": "43f7f8ba",
   "metadata": {},
   "outputs": [],
   "source": [
    "def commit_query(connection):\n",
    "    cursor = connection.cursor()\n",
    "    try:\n",
    "        cursor.commit()\n",
    "        print(\"Database commit succesful\")\n",
    "    except Error as err:\n",
    "        print(f\"Commit error '{err}'\")"
   ]
  },
  {
   "cell_type": "markdown",
   "id": "ee3b5427",
   "metadata": {},
   "source": [
    "#### Creating different sql queries to perform different database operations"
   ]
  },
  {
   "cell_type": "code",
   "execution_count": 6,
   "id": "2cd5310d",
   "metadata": {},
   "outputs": [],
   "source": [
    "create_teacher_table = \"\"\"\n",
    "create table teacher( \n",
    "    teacher_id INT PRIMARY KEY,\n",
    "    first_name VARCHAR(255) NOT NULL,\n",
    "    last_name VARCHAR(255) NOT NULL,\n",
    "    language_1 VARCHAR(3) NOT NULL,\n",
    "    language_2 VARCHAR(3),\n",
    "    dob DATE,\n",
    "    tax_id INT UNIQUE,\n",
    "    phone_no VARCHAR(20)\n",
    ");\n",
    "\"\"\""
   ]
  },
  {
   "cell_type": "code",
   "execution_count": 7,
   "id": "3cb5efad",
   "metadata": {},
   "outputs": [],
   "source": [
    "create_client_table = \"\"\"\n",
    "create table client(\n",
    "    client_id INT PRIMARY KEY,\n",
    "    client_name VARCHAR(40) NOT NULL,\n",
    "    address VARCHAR(60) NOT NULL,\n",
    "    industry VARCHAR(30)\n",
    ");\n",
    "\"\"\"\n",
    "\n",
    "create_participant_table = \"\"\"\n",
    "create table participant(\n",
    "    participant_id INT PRIMARY KEY,\n",
    "    first_name VARCHAR(50) NOT NULL,\n",
    "    last_name VARCHAR(50) NOT NULL,\n",
    "    phone_no VARCHAR(20),\n",
    "    client INT\n",
    ");\n",
    "\"\"\"\n",
    "\n",
    "create_course_table = \"\"\"\n",
    "create table course(\n",
    "    course_id INT PRIMARY KEY,\n",
    "    course_name VARCHAR(40) NOT NULL,\n",
    "    language VARCHAR(3) NOT NULL,\n",
    "    level VARCHAR(2),\n",
    "    course_length_weeks INT,\n",
    "    start_date DATE,\n",
    "    in_school BOOLEAN,\n",
    "    teacher INT,\n",
    "    client INT\n",
    ");\n",
    "\"\"\""
   ]
  },
  {
   "cell_type": "code",
   "execution_count": 8,
   "id": "865e5129",
   "metadata": {},
   "outputs": [],
   "source": [
    "alter_participant = \"\"\"\n",
    "ALTER table participant\n",
    "ADD FOREIGN KEY(client)\n",
    "REFERENCES client(client_id)\n",
    "ON DELETE SET NULL;\n",
    "\"\"\"\n",
    "\n",
    "alter_course = \"\"\"\n",
    "ALTER table course\n",
    "ADD FOREIGN KEY(teacher)\n",
    "REFERENCES teacher(teacher_id)\n",
    "ON DELETE SET NULL;\n",
    "\"\"\"\n",
    "\n",
    "alter_course_again = \"\"\"\n",
    "ALTER table course\n",
    "ADD FOREIGN KEY(client)\n",
    "REFERENCES client(client_id)\n",
    "ON DELETE SET NULL;\n",
    "\"\"\"\n",
    "\n",
    "create_takescourse_table = \"\"\"\n",
    "CREATE TABLE takes_course (\n",
    "  participant_id INT,\n",
    "  course_id INT,\n",
    "  PRIMARY KEY(participant_id, course_id),\n",
    "  FOREIGN KEY(participant_id) REFERENCES participant(participant_id) ON DELETE CASCADE,\n",
    "  FOREIGN KEY(course_id) REFERENCES course(course_id) ON DELETE CASCADE\n",
    ");\n",
    "\"\"\""
   ]
  },
  {
   "cell_type": "code",
   "execution_count": 9,
   "id": "ec59ec40",
   "metadata": {},
   "outputs": [],
   "source": [
    "pop_teacher = \"\"\"\n",
    "INSERT INTO teacher values\n",
    "(1,  'James', 'Smith', 'ENG', NULL, '1985-04-20', 12345, '+491774553676'),\n",
    "(2, 'Stefanie',  'Martin',  'FRA', NULL,  '1970-02-17', 23456, '+491234567890'), \n",
    "(3, 'Steve', 'Wang',  'MAN', 'ENG', '1990-11-12', 34567, '+447840921333'),\n",
    "(4, 'Friederike',  'Müller-Rossi', 'DEU', 'ITA', '1987-07-07',  45678, '+492345678901'),\n",
    "(5, 'Isobel', 'Ivanova', 'RUS', 'ENG', '1963-05-30',  56789, '+491772635467'),\n",
    "(6, 'Niamh', 'Murphy', 'ENG', 'IRI', '1995-09-08',  67890, '+491231231232');\n",
    "\"\"\"\n",
    "\n",
    "pop_client = \"\"\"\n",
    "INSERT INTO client values\n",
    "(101, 'Big Business Federation', '123 Falschungstraße, 10999 Berlin', 'NGO'),\n",
    "(102, 'eCommerce GmbH', '27 Ersatz Allee, 10317 Berlin', 'Retail'),\n",
    "(103, 'AutoMaker AG',  '20 Künstlichstraße, 10023 Berlin', 'Auto'),\n",
    "(104, 'Banko Bank',  '12 Betrugstraße, 12345 Berlin', 'Banking'),\n",
    "(105, 'WeMoveIt GmbH', '138 Arglistweg, 10065 Berlin', 'Logistics');\n",
    "\"\"\"\n",
    "\n",
    "pop_participant = \"\"\"\n",
    "INSERT INTO participant values\n",
    "(101, 'Marina', 'Berg','491635558182', 101),\n",
    "(102, 'Andrea', 'Duerr', '49159555740', 101),\n",
    "(103, 'Philipp', 'Probst',  '49155555692', 102),\n",
    "(104, 'René',  'Brandt',  '4916355546',  102),\n",
    "(105, 'Susanne', 'Shuster', '49155555779', 102),\n",
    "(106, 'Christian', 'Schreiner', '49162555375', 101),\n",
    "(107, 'Harry', 'Kim', '49177555633', 101),\n",
    "(108, 'Jan', 'Nowak', '49151555824', 101),\n",
    "(109, 'Pablo', 'Garcia',  '49162555176', 101),\n",
    "(110, 'Melanie', 'Dreschler', '49151555527', 103),\n",
    "(111, 'Dieter', 'Durr',  '49178555311', 103),\n",
    "(112, 'Max', 'Mustermann', '49152555195', 104),\n",
    "(113, 'Maxine', 'Mustermann', '49177555355', 104),\n",
    "(114, 'Heiko', 'Fleischer', '49155555581', 105);\n",
    "\"\"\"\n",
    "\n",
    "pop_course = \"\"\"\n",
    "INSERT INTO course values\n",
    "(12, 'English for Logistics', 'ENG', 'A1', 10, '2020-02-01', TRUE,  1, 105),\n",
    "(13, 'Beginner English', 'ENG', 'A2', 40, '2019-11-12',  FALSE, 6, 101),\n",
    "(14, 'Intermediate English', 'ENG', 'B2', 40, '2019-11-12', FALSE, 6, 101),\n",
    "(15, 'Advanced English', 'ENG', 'C1', 40, '2019-11-12', FALSE, 6, 101),\n",
    "(16, 'Mandarin für Autoindustrie', 'MAN', 'B1', 15, '2020-01-15', TRUE, 3, 103),\n",
    "(17, 'Français intermédiaire', 'FRA', 'B1',  18, '2020-04-03', FALSE, 2, 101),\n",
    "(18, 'Deutsch für Anfänger', 'DEU', 'A2', 8, '2020-02-14', TRUE, 4, 102),\n",
    "(19, 'Intermediate English', 'ENG', 'B2', 10, '2020-03-29', FALSE, 1, 104),\n",
    "(20, 'Fortgeschrittenes Russisch', 'RUS', 'C1',  4, '2020-04-08',  FALSE, 5, 103);\n",
    "\"\"\"\n",
    "\n",
    "pop_takescourse = \"\"\"\n",
    "INSERT INTO takes_course values\n",
    "(101, 15),\n",
    "(101, 17),\n",
    "(102, 17),\n",
    "(103, 18),\n",
    "(104, 18),\n",
    "(105, 18),\n",
    "(106, 13),\n",
    "(107, 13),\n",
    "(108, 13),\n",
    "(109, 14),\n",
    "(109, 15),\n",
    "(110, 16),\n",
    "(110, 20),\n",
    "(111, 16),\n",
    "(114, 12),\n",
    "(112, 19),\n",
    "(113, 19);\n",
    "\"\"\""
   ]
  },
  {
   "cell_type": "code",
   "execution_count": 10,
   "id": "b1e484f5",
   "metadata": {},
   "outputs": [],
   "source": [
    "def read_query(connection, query):\n",
    "    cursor = connection.cursor()\n",
    "    result = None\n",
    "    try:\n",
    "        cursor.execute(query)\n",
    "        result = cursor.fetchall()\n",
    "        return result\n",
    "    except Error as err:\n",
    "        print(f\"Read query failed:- '{err}'\")"
   ]
  },
  {
   "cell_type": "code",
   "execution_count": 15,
   "id": "e78d88cb",
   "metadata": {},
   "outputs": [
    {
     "name": "stdout",
     "output_type": "stream",
     "text": [
      "Mysql connection is  successful\n",
      "Database Created successfully\n"
     ]
    }
   ],
   "source": [
    "connection = create_server_connection(\"localhost\",\"deven\",\"Password@123\")\n",
    "db_query = \"Create database school\"\n",
    "create_database(connection,db_query)"
   ]
  },
  {
   "cell_type": "code",
   "execution_count": 16,
   "id": "e48d995e",
   "metadata": {},
   "outputs": [
    {
     "name": "stdout",
     "output_type": "stream",
     "text": [
      "Query executed successfully\n",
      "Query executed successfully\n"
     ]
    }
   ],
   "source": [
    "cur  = connection.cursor()\n",
    "cur.execute(\"use school\")\n",
    "execute_query(connection,create_teacher_table)\n",
    "execute_query(connection,create_client_table)"
   ]
  },
  {
   "cell_type": "code",
   "execution_count": 17,
   "id": "809cca07",
   "metadata": {},
   "outputs": [
    {
     "name": "stdout",
     "output_type": "stream",
     "text": [
      "Query executed successfully\n",
      "Query executed successfully\n"
     ]
    }
   ],
   "source": [
    "execute_query(connection,create_participant_table)\n",
    "execute_query(connection,create_course_table)"
   ]
  },
  {
   "cell_type": "code",
   "execution_count": 18,
   "id": "e4dc552c",
   "metadata": {},
   "outputs": [
    {
     "name": "stdout",
     "output_type": "stream",
     "text": [
      "Query executed successfully\n",
      "Query executed successfully\n",
      "Query executed successfully\n",
      "Query executed successfully\n"
     ]
    }
   ],
   "source": [
    "execute_query(connection, alter_participant)\n",
    "execute_query(connection, alter_course)\n",
    "execute_query(connection, alter_course_again)\n",
    "#commit_query(connection)\n",
    "execute_query(connection, create_takescourse_table)"
   ]
  },
  {
   "cell_type": "code",
   "execution_count": 19,
   "id": "fbcff4e6",
   "metadata": {},
   "outputs": [
    {
     "name": "stdout",
     "output_type": "stream",
     "text": [
      "Query executed successfully\n",
      "Query executed successfully\n",
      "Query executed successfully\n",
      "Query executed successfully\n",
      "Query executed successfully\n"
     ]
    }
   ],
   "source": [
    "execute_query(connection,pop_teacher)\n",
    "execute_query(connection,pop_client)\n",
    "execute_query(connection,pop_participant)\n",
    "execute_query(connection,pop_course)\n",
    "execute_query(connection,pop_takescourse)"
   ]
  },
  {
   "cell_type": "code",
   "execution_count": 20,
   "id": "cf7a9137",
   "metadata": {},
   "outputs": [
    {
     "name": "stdout",
     "output_type": "stream",
     "text": [
      "(1, 'James', 'Smith', 'ENG', None, datetime.date(1985, 4, 20), 12345, '+491774553676')\n",
      "(2, 'Stefanie', 'Martin', 'FRA', None, datetime.date(1970, 2, 17), 23456, '+491234567890')\n",
      "(3, 'Steve', 'Wang', 'MAN', 'ENG', datetime.date(1990, 11, 12), 34567, '+447840921333')\n",
      "(4, 'Friederike', 'Müller-Rossi', 'DEU', 'ITA', datetime.date(1987, 7, 7), 45678, '+492345678901')\n",
      "(5, 'Isobel', 'Ivanova', 'RUS', 'ENG', datetime.date(1963, 5, 30), 56789, '+491772635467')\n",
      "(6, 'Niamh', 'Murphy', 'ENG', 'IRI', datetime.date(1995, 9, 8), 67890, '+491231231232')\n"
     ]
    }
   ],
   "source": [
    "q1 = \"\"\"\n",
    "SELECT *\n",
    "FROM teacher;\n",
    "\"\"\"\n",
    "results = read_query(connection,q1);\n",
    "for x in results:\n",
    "    print(x)"
   ]
  },
  {
   "cell_type": "code",
   "execution_count": 21,
   "id": "b6a3810d",
   "metadata": {},
   "outputs": [],
   "source": [
    "from_db = []\n",
    "\n",
    "results = read_query(connection,q1);\n",
    "for x in results:\n",
    "    result = list(x)\n",
    "    from_db.append(x)\n",
    "    \n",
    "columns = [\"teacher_id\",\"first_name\",\"last_name\",\"language_1\",\"language_2\",\"dob\",\"tax_id\",\"phone_no\"]\n",
    "\n",
    "df = pd.DataFrame(from_db, columns=columns)"
   ]
  },
  {
   "cell_type": "code",
   "execution_count": 22,
   "id": "349d10bd",
   "metadata": {},
   "outputs": [
    {
     "name": "stdout",
     "output_type": "stream",
     "text": [
      "6\n",
      "8\n"
     ]
    }
   ],
   "source": [
    "print(len(from_db))\n",
    "print(len(from_db[0]))"
   ]
  },
  {
   "cell_type": "code",
   "execution_count": 23,
   "id": "39581489",
   "metadata": {},
   "outputs": [
    {
     "name": "stdout",
     "output_type": "stream",
     "text": [
      "(1, 'James', 'Smith', 'ENG', None, datetime.date(1985, 4, 20), 12345, '+491774553676')\n"
     ]
    }
   ],
   "source": [
    "print(from_db[0])"
   ]
  },
  {
   "cell_type": "code",
   "execution_count": 24,
   "id": "420ffc21",
   "metadata": {},
   "outputs": [
    {
     "data": {
      "text/plain": [
       "(6, 8)"
      ]
     },
     "execution_count": 24,
     "metadata": {},
     "output_type": "execute_result"
    }
   ],
   "source": [
    "df.shape"
   ]
  },
  {
   "cell_type": "code",
   "execution_count": 25,
   "id": "dd1c33e3",
   "metadata": {},
   "outputs": [
    {
     "name": "stdout",
     "output_type": "stream",
     "text": [
      "<class 'pandas.core.frame.DataFrame'>\n",
      "RangeIndex: 6 entries, 0 to 5\n",
      "Data columns (total 8 columns):\n",
      " #   Column      Non-Null Count  Dtype \n",
      "---  ------      --------------  ----- \n",
      " 0   teacher_id  6 non-null      int64 \n",
      " 1   first_name  6 non-null      object\n",
      " 2   last_name   6 non-null      object\n",
      " 3   language_1  6 non-null      object\n",
      " 4   language_2  4 non-null      object\n",
      " 5   dob         6 non-null      object\n",
      " 6   tax_id      6 non-null      int64 \n",
      " 7   phone_no    6 non-null      object\n",
      "dtypes: int64(2), object(6)\n",
      "memory usage: 512.0+ bytes\n"
     ]
    }
   ],
   "source": [
    "df.info()"
   ]
  },
  {
   "cell_type": "code",
   "execution_count": 26,
   "id": "2e30f6fd",
   "metadata": {},
   "outputs": [
    {
     "name": "stdout",
     "output_type": "stream",
     "text": [
      "Query executed successfully\n"
     ]
    }
   ],
   "source": [
    "update = \"\"\"\n",
    "UPDATE client SET address = '23 Fingertweg 14543 Berlin'\n",
    "WHERE client_id = 101;\n",
    "\"\"\"\n",
    "execute_query(connection,update)"
   ]
  },
  {
   "cell_type": "code",
   "execution_count": 27,
   "id": "bff90a11",
   "metadata": {},
   "outputs": [],
   "source": [
    "def execute_list_query(connection, sql,val):\n",
    "    cursor = connection.cursor()\n",
    "    try:\n",
    "        cursor.executemany(sql,val)\n",
    "        connection.commit()\n",
    "        print(\"Query Successful\")\n",
    "    except Error as err:\n",
    "        print(f\"Query unsuccessful with error '{err}'\")"
   ]
  },
  {
   "cell_type": "code",
   "execution_count": 28,
   "id": "c739dcad",
   "metadata": {},
   "outputs": [],
   "source": [
    "sql = \"\"\"\n",
    "    INSERT INTO teacher \n",
    "    VALUES (%s,%s,%s,%s,%s,%s,%s,%s);\n",
    "\"\"\"\n",
    "\n",
    "val = [\n",
    "    (7, 'Hank', 'Dodson', 'ENG', None, '1991-12-23', 11111, '+491772345678'), \n",
    "    (8, 'Sue', 'Perkins', 'MAN', 'ENG', '1976-02-02', 22222, '+491443456432')\n",
    "]"
   ]
  },
  {
   "cell_type": "code",
   "execution_count": 29,
   "id": "370bf802",
   "metadata": {},
   "outputs": [
    {
     "name": "stdout",
     "output_type": "stream",
     "text": [
      "Query Successful\n"
     ]
    }
   ],
   "source": [
    "execute_list_query(connection, sql, val)"
   ]
  },
  {
   "cell_type": "code",
   "execution_count": 30,
   "id": "b9d48a6d",
   "metadata": {},
   "outputs": [
    {
     "name": "stdout",
     "output_type": "stream",
     "text": [
      "(1, 'James', 'Smith', 'ENG', None, datetime.date(1985, 4, 20), 12345, '+491774553676')\n",
      "(2, 'Stefanie', 'Martin', 'FRA', None, datetime.date(1970, 2, 17), 23456, '+491234567890')\n",
      "(3, 'Steve', 'Wang', 'MAN', 'ENG', datetime.date(1990, 11, 12), 34567, '+447840921333')\n",
      "(4, 'Friederike', 'Müller-Rossi', 'DEU', 'ITA', datetime.date(1987, 7, 7), 45678, '+492345678901')\n",
      "(5, 'Isobel', 'Ivanova', 'RUS', 'ENG', datetime.date(1963, 5, 30), 56789, '+491772635467')\n",
      "(6, 'Niamh', 'Murphy', 'ENG', 'IRI', datetime.date(1995, 9, 8), 67890, '+491231231232')\n",
      "(7, 'Hank', 'Dodson', 'ENG', None, datetime.date(1991, 12, 23), 11111, '+491772345678')\n",
      "(8, 'Sue', 'Perkins', 'MAN', 'ENG', datetime.date(1976, 2, 2), 22222, '+491443456432')\n"
     ]
    }
   ],
   "source": [
    "results = read_query(connection,q1);\n",
    "for x in results:\n",
    "    print(x)"
   ]
  },
  {
   "cell_type": "code",
   "execution_count": null,
   "id": "44117437",
   "metadata": {},
   "outputs": [],
   "source": []
  }
 ],
 "metadata": {
  "kernelspec": {
   "display_name": "Python 3 (ipykernel)",
   "language": "python",
   "name": "python3"
  },
  "language_info": {
   "codemirror_mode": {
    "name": "ipython",
    "version": 3
   },
   "file_extension": ".py",
   "mimetype": "text/x-python",
   "name": "python",
   "nbconvert_exporter": "python",
   "pygments_lexer": "ipython3",
   "version": "3.9.7"
  }
 },
 "nbformat": 4,
 "nbformat_minor": 5
}

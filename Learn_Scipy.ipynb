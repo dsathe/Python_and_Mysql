{
 "cells": [
  {
   "cell_type": "code",
   "execution_count": 3,
   "id": "b409d730",
   "metadata": {},
   "outputs": [
    {
     "name": "stdout",
     "output_type": "stream",
     "text": [
      "0.001\n",
      "1.7.1\n"
     ]
    }
   ],
   "source": [
    "from scipy import constants\n",
    "import scipy\n",
    "\n",
    "print(constants.liter)\n",
    "print(scipy.__version__)"
   ]
  },
  {
   "cell_type": "code",
   "execution_count": 4,
   "id": "7ba6bcdd",
   "metadata": {},
   "outputs": [
    {
     "name": "stdout",
     "output_type": "stream",
     "text": [
      "3.141592653589793\n",
      "['Avogadro', 'Boltzmann', 'Btu', 'Btu_IT', 'Btu_th', 'ConstantWarning', 'G', 'Julian_year', 'N_A', 'Planck', 'R', 'Rydberg', 'Stefan_Boltzmann', 'Wien', '__all__', '__builtins__', '__cached__', '__doc__', '__file__', '__loader__', '__name__', '__package__', '__path__', '__spec__', '_obsolete_constants', 'acre', 'alpha', 'angstrom', 'arcmin', 'arcminute', 'arcsec', 'arcsecond', 'astronomical_unit', 'atm', 'atmosphere', 'atomic_mass', 'atto', 'au', 'bar', 'barrel', 'bbl', 'blob', 'c', 'calorie', 'calorie_IT', 'calorie_th', 'carat', 'centi', 'codata', 'constants', 'convert_temperature', 'day', 'deci', 'degree', 'degree_Fahrenheit', 'deka', 'dyn', 'dyne', 'e', 'eV', 'electron_mass', 'electron_volt', 'elementary_charge', 'epsilon_0', 'erg', 'exa', 'exbi', 'femto', 'fermi', 'find', 'fine_structure', 'fluid_ounce', 'fluid_ounce_US', 'fluid_ounce_imp', 'foot', 'g', 'gallon', 'gallon_US', 'gallon_imp', 'gas_constant', 'gibi', 'giga', 'golden', 'golden_ratio', 'grain', 'gram', 'gravitational_constant', 'h', 'hbar', 'hectare', 'hecto', 'horsepower', 'hour', 'hp', 'inch', 'k', 'kgf', 'kibi', 'kilo', 'kilogram_force', 'kmh', 'knot', 'lambda2nu', 'lb', 'lbf', 'light_year', 'liter', 'litre', 'long_ton', 'm_e', 'm_n', 'm_p', 'm_u', 'mach', 'mebi', 'mega', 'metric_ton', 'micro', 'micron', 'mil', 'mile', 'milli', 'minute', 'mmHg', 'mph', 'mu_0', 'nano', 'nautical_mile', 'neutron_mass', 'nu2lambda', 'ounce', 'oz', 'parsec', 'pebi', 'peta', 'physical_constants', 'pi', 'pico', 'point', 'pound', 'pound_force', 'precision', 'proton_mass', 'psi', 'pt', 'short_ton', 'sigma', 'slinch', 'slug', 'speed_of_light', 'speed_of_sound', 'stone', 'survey_foot', 'survey_mile', 'tebi', 'tera', 'test', 'ton_TNT', 'torr', 'troy_ounce', 'troy_pound', 'u', 'unit', 'value', 'week', 'yard', 'year', 'yobi', 'yotta', 'zebi', 'zepto', 'zero_Celsius', 'zetta']\n"
     ]
    }
   ],
   "source": [
    "# Finding constant pi and other constants\n",
    "print(constants.pi)\n",
    "print(dir(constants))"
   ]
  },
  {
   "cell_type": "code",
   "execution_count": 6,
   "id": "8a3a94f7",
   "metadata": {},
   "outputs": [
    {
     "name": "stdout",
     "output_type": "stream",
     "text": [
      "1024\n",
      "1048576\n",
      "1073741824\n",
      "1099511627776\n",
      "1125899906842624\n",
      "1152921504606846976\n",
      "1180591620717411303424\n",
      "1208925819614629174706176\n"
     ]
    }
   ],
   "source": [
    "# Just binary constants\n",
    "from scipy import constants\n",
    "\n",
    "print(constants.kibi)  \n",
    "print(constants.mebi)   \n",
    "print(constants.gibi)  \n",
    "print(constants.tebi)    \n",
    "print(constants.pebi)   \n",
    "print(constants.exbi)    \n",
    "print(constants.zebi)    \n",
    "print(constants.yobi)    "
   ]
  },
  {
   "cell_type": "code",
   "execution_count": 8,
   "id": "d42858cb",
   "metadata": {},
   "outputs": [
    {
     "name": "stdout",
     "output_type": "stream",
     "text": [
      "    fjac: array([[-1.]])\n",
      "     fun: array([0.])\n",
      " message: 'The solution converged.'\n",
      "    nfev: 9\n",
      "     qtf: array([-2.66786593e-13])\n",
      "       r: array([-1.67361202])\n",
      "  status: 1\n",
      " success: True\n",
      "       x: array([-0.73908513])\n"
     ]
    }
   ],
   "source": [
    "from scipy.optimize import root\n",
    "from math import cos\n",
    "\n",
    "def eqn(x):\n",
    "    return cos(x)+x\n",
    "\n",
    "# here we are finding the value of x given the eqn(x)=0\n",
    "myroot = root(eqn,0)\n",
    "print(myroot)"
   ]
  },
  {
   "cell_type": "code",
   "execution_count": 11,
   "id": "bb252704",
   "metadata": {},
   "outputs": [
    {
     "name": "stdout",
     "output_type": "stream",
     "text": [
      "      fun: 1.75\n",
      " hess_inv: array([[0.50000001]])\n",
      "      jac: array([0.])\n",
      "  message: 'Optimization terminated successfully.'\n",
      "     nfev: 8\n",
      "      nit: 2\n",
      "     njev: 4\n",
      "   status: 0\n",
      "  success: True\n",
      "        x: array([-0.50000001])\n"
     ]
    }
   ],
   "source": [
    "# In the same way we can also find a minima of a function\n",
    "from scipy.optimize import minimize\n",
    "\n",
    "def eqn(x):\n",
    "    return x**2 + x + 2\n",
    "\n",
    "# Here 0 acts as the initial guess for root.\n",
    "mini = minimize(eqn,0,method='BFGS')\n",
    "\n",
    "print(mini)"
   ]
  },
  {
   "cell_type": "code",
   "execution_count": 18,
   "id": "60e4179e",
   "metadata": {},
   "outputs": [
    {
     "name": "stdout",
     "output_type": "stream",
     "text": [
      "  (1, 1)\t1\n",
      "  (2, 1)\t1\n",
      "  (3, 0)\t2\n",
      "[1 1 2]\n",
      " \n",
      "3\n"
     ]
    }
   ],
   "source": [
    "# scipy is also used to handle sparse values\n",
    "from scipy.sparse import csr_matrix\n",
    "import numpy as np\n",
    "\n",
    "arr = np.array([[0,0,0],[0,1,0],[0,1,0],[2,0,0]])\n",
    "                \n",
    "print(csr_matrix(arr))\n",
    "print(csr_matrix(arr).data)\n",
    "print(\" \")\n",
    "print(csr_matrix(arr).count_nonzero())"
   ]
  },
  {
   "cell_type": "code",
   "execution_count": 19,
   "id": "6b31aad7",
   "metadata": {},
   "outputs": [
    {
     "name": "stdout",
     "output_type": "stream",
     "text": [
      "  (1, 1)\t1\n",
      "  (2, 1)\t1\n",
      "  (3, 0)\t2\n"
     ]
    }
   ],
   "source": [
    "# Here we removed the zeros from matrix and now we only store the data\n",
    "mat = csr_matrix(arr)\n",
    "mat.eliminate_zeros()\n",
    "print(mat)"
   ]
  },
  {
   "cell_type": "code",
   "execution_count": 20,
   "id": "a079b795",
   "metadata": {},
   "outputs": [
    {
     "name": "stdout",
     "output_type": "stream",
     "text": [
      "  (3, 0)\t2\n",
      "  (1, 1)\t1\n",
      "  (2, 1)\t1\n"
     ]
    }
   ],
   "source": [
    "#Converting the compressed sparse row configuration to a compressed spare column configuration\n",
    "newmat = mat.tocsc()\n",
    "print(newmat)"
   ]
  },
  {
   "cell_type": "code",
   "execution_count": 25,
   "id": "d0a88d1b",
   "metadata": {},
   "outputs": [
    {
     "name": "stdout",
     "output_type": "stream",
     "text": [
      "None\n",
      "None\n"
     ]
    }
   ],
   "source": [
    "print(newmat.sum_duplicates())\n",
    "print(mat.sum_duplicates())"
   ]
  },
  {
   "cell_type": "code",
   "execution_count": 26,
   "id": "3a7649b4",
   "metadata": {},
   "outputs": [
    {
     "name": "stdout",
     "output_type": "stream",
     "text": [
      "(1, array([0, 0, 0], dtype=int32))\n"
     ]
    }
   ],
   "source": [
    "# We can also work with graphs when we are working with scipy as well as it multiple algorithms\n",
    "\n",
    "from scipy.sparse.csgraph import connected_components\n",
    "\n",
    "arr = np.array([\n",
    "    [0,1,2],\n",
    "    [1,0,0],\n",
    "    [2,0,0]\n",
    "])\n",
    "\n",
    "adj_mat = csr_matrix(arr)\n",
    "print(connected_components(arr))"
   ]
  },
  {
   "cell_type": "code",
   "execution_count": 28,
   "id": "2b0b82fe",
   "metadata": {},
   "outputs": [
    {
     "name": "stdout",
     "output_type": "stream",
     "text": [
      "Dijstra's output\n",
      "(array([0., 1., 2.]), array([-9999,     0,     0], dtype=int32))\n",
      "Floyd Warshall output\n",
      "(array([[0., 1., 2.],\n",
      "       [1., 0., 3.],\n",
      "       [2., 3., 0.]]), array([[-9999,     0,     0],\n",
      "       [    1, -9999,     0],\n",
      "       [    2,     0, -9999]], dtype=int32))\n"
     ]
    }
   ],
   "source": [
    "from scipy.sparse.csgraph import dijkstra\n",
    "from scipy.sparse.csgraph import floyd_warshall\n",
    "\n",
    "print(\"Dijstra's output\")\n",
    "print(dijkstra(arr, return_predecessors=True, indices=0))\n",
    "print(\"Floyd Warshall output\")\n",
    "print(floyd_warshall(arr,return_predecessors=True))"
   ]
  },
  {
   "cell_type": "code",
   "execution_count": null,
   "id": "aad9a090",
   "metadata": {},
   "outputs": [],
   "source": []
  }
 ],
 "metadata": {
  "kernelspec": {
   "display_name": "Python 3 (ipykernel)",
   "language": "python",
   "name": "python3"
  },
  "language_info": {
   "codemirror_mode": {
    "name": "ipython",
    "version": 3
   },
   "file_extension": ".py",
   "mimetype": "text/x-python",
   "name": "python",
   "nbconvert_exporter": "python",
   "pygments_lexer": "ipython3",
   "version": "3.9.7"
  }
 },
 "nbformat": 4,
 "nbformat_minor": 5
}
